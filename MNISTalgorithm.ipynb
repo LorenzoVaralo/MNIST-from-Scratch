{
 "cells": [
  {
   "cell_type": "code",
   "execution_count": 4,
   "metadata": {},
   "outputs": [],
   "source": [
    "from sklearn.datasets import fetch_openml\n",
    "import numpy as np\n",
    "from sklearn.model_selection import train_test_split\n",
    "import time\n",
    "import matplotlib.pyplot as plt\n",
    "import pickle #optional"
   ]
  },
  {
   "cell_type": "code",
   "execution_count": 5,
   "metadata": {},
   "outputs": [],
   "source": [
    "#Download do dataset e tratamento de dados:\n",
    "xx , yy = fetch_openml('mnist_784', version=1, return_X_y=True)\n",
    "X = xx\n",
    "Y = yy\n",
    "X = np.array(X.values/255) #Manter os valores de X entre 0 e 1\n",
    "Y = np.array(Y.values)\n",
    "m = X.shape[0]\n",
    "n = X.shape[1] + 1\n",
    "X = np.concatenate((np.ones([m,1]),X), axis=1) # Adicionando a coluna de 1's para suportar o bias\n",
    "Y = Y.astype(np.int64)\n",
    "cat = np.zeros([m,10])\n",
    "for ind, num in enumerate(Y):\n",
    "    cat[ind][num] = 1\n",
    "Y = cat # Y agora é categórico-> ex: 3 = [0,0,0,1,0,0,0,0,0,0]\n",
    "#Embaralhar e separar x e y em train e test:\n",
    "x_train, x_test, y_train, y_test = train_test_split(X, Y, test_size = 0.15, random_state=42) "
   ]
  },
  {
   "cell_type": "code",
   "execution_count": 6,
   "metadata": {},
   "outputs": [
    {
     "name": "stdout",
     "output_type": "stream",
     "text": [
      "TAMANHOS:\n",
      "- X original: 70000 x 785\n",
      "- Y original: 70000 x 10\n",
      "- X Train: 59500 x 785\n",
      "- Y train: 59500 x 10\n",
      "- X Test: 10500 x 785\n",
      "- Y Test: 10500 x 10\n"
     ]
    }
   ],
   "source": [
    "print('TAMANHOS:')\n",
    "print(f'- X original: {X.shape[0]} x {X.shape[1]}')\n",
    "print(f'- Y original: {Y.shape[0]} x {Y.shape[1]}')\n",
    "print(f'- X Train: {x_train.shape[0]} x {x_train.shape[1]}')\n",
    "print(f'- Y train: {y_train.shape[0]} x {y_train.shape[1]}')\n",
    "print(f'- X Test: {x_test.shape[0]} x {x_test.shape[1]}')\n",
    "print(f'- Y Test: {y_test.shape[0]} x {y_test.shape[1]}')"
   ]
  },
  {
   "cell_type": "code",
   "execution_count": 7,
   "metadata": {},
   "outputs": [
    {
     "name": "stdout",
     "output_type": "stream",
     "text": [
      "2\n"
     ]
    },
    {
     "data": {
      "image/png": "[encoded data removed]",
      "text/plain": [
       "<Figure size 432x288 with 1 Axes>"
      ]
     },
     "metadata": {},
     "output_type": "display_data"
    }
   ],
   "source": [
    "NumeroAleatorio = np.random.randint(0,59500)\n",
    "plt.imshow(np.reshape(x_train[NumeroAleatorio][1:], [28,28]), cmap='Greys')\n",
    "print(np.argmax(y_train[NumeroAleatorio]))"
   ]
  },
  {
   "cell_type": "code",
   "execution_count": 8,
   "metadata": {},
   "outputs": [],
   "source": [
    "class MNISTalgorithm:\n",
    "    def __init__(self, estrutura, epochs=10, alpha=0.1, batch_size=0, Regularizer=0.0):\n",
    "        self.tamanhos = [x for x in estrutura if isinstance(x, int)]\n",
    "        self.ativações = [x.lower() for x in estrutura if isinstance(x, str)]\n",
    "        self.inputs = [epochs,alpha,batch_size,Regularizer]\n",
    "        self.epochs = epochs\n",
    "        self.alpha = alpha\n",
    "        self.Reg = Regularizer\n",
    "        self.batch_size = batch_size\n",
    "        self.Thetas = self.Inicialização()\n",
    "        self.CheckInputs()\n",
    "    \n",
    "\n",
    "    def CheckInputs(self): #Aviso de possiveis erros\n",
    "        assert isinstance(self.epochs,int), 'ERRO: parametro \"epochs\" deve ser integer.'\n",
    "        assert isinstance(self.alpha,float), 'ERRO: parametro \"alpha\" deve ser float.'\n",
    "        assert isinstance(self.batch_size,int), 'ERRO: parametro \"batch_size\" deve ser integer.'\n",
    "        assert isinstance(self.Reg,float), 'ERRO: parametro \"Regularizer\" deve ser float.'\n",
    "        assert (self.tamanhos[0] == 784) and (self.tamanhos[-1] == 10),'ERRO: A primeira camada deve ter 784 neurônios e a ultima 10 neurônios.'\n",
    "        assert len(self.ativações) == (len(self.tamanhos)-1), 'ERRO: Quantidade de camadas e ativações incompatível.'\n",
    "        assert self.ativações[-1] == 'softmax', 'ERRO: A ultima ativação deve ser Softmax.'\n",
    "\n",
    "\n",
    "    def Inicialização(self):# Inicializando Weights e Bias aleatoriamente\n",
    "        Thetas = {}\n",
    "        for layer in range(len(self.tamanhos)-1):\n",
    "            Thetas[f'T{layer+1}'] = np.random.randn(self.tamanhos[layer]+1, self.tamanhos[layer+1])/10\n",
    "        return Thetas\n",
    "\n",
    "\n",
    "    def sigmoid(self, z):\n",
    "        return 1/(1 + np.exp(-z))\n",
    "\n",
    "    def dxsigmoid(self, z):\n",
    "        return np.multiply(self.sigmoid(z),(1-self.sigmoid(z)))\n",
    "\n",
    "    def softmax(self,x):\n",
    "        x = np.array(x)\n",
    "        e_x = np.exp(x - np.max(x, axis=1, keepdims=True))\n",
    "        return (e_x / e_x.sum(axis=1)[:,None])\n",
    "\n",
    "    def Relu(self, x):\n",
    "        return np.maximum(0,x)\n",
    "    \n",
    "    def dxRelu(self, x):\n",
    "        return np.where(x >= 0, 1, 0)\n",
    "    \n",
    "\n",
    "    def Forward(self,X):\n",
    "        '''Adicionando todo processo da Forward Propagation em um dicionario\n",
    "        {\"a1\": [...], \"z2\": [...], \"a2\": [...], \"z3\": [...], ..... ,\"h\":[...]}'''\n",
    "        X = np.matrix(X)\n",
    "        m = X.shape[0]\n",
    "        att = self.ativações\n",
    "        Thetas = self.Thetas\n",
    "        Forward_steps = {}\n",
    "        Forward_steps['a1'] = X\n",
    "        Ultimo_layer = int(len(self.tamanhos))\n",
    "        for layer in range(1,Ultimo_layer):\n",
    "            Forward_steps[f'z{layer+1}'] = np.dot(Forward_steps[f'a{layer}'], Thetas[f'T{layer}'])\n",
    "            if att[layer-1] == 'sigmoid':\n",
    "                Forward_steps[f'a{layer+1}'] = np.concatenate((np.ones([m,1]), self.sigmoid(Forward_steps[f'z{layer+1}'])), axis=1)\n",
    "            elif att[layer-1] == 'softmax':\n",
    "                Forward_steps[f'a{layer+1}'] = np.concatenate((np.ones([m,1]), self.softmax(Forward_steps[f'z{layer+1}'])), axis=1)\n",
    "            elif att[layer-1] == 'relu':\n",
    "                Forward_steps[f'a{layer+1}'] = np.concatenate((np.ones([m,1]), self.Relu(Forward_steps[f'z{layer+1}'])), axis=1)\n",
    "            else:\n",
    "                print('ERRO NAS ATIVAÇÕES')\n",
    "\n",
    "        \n",
    "        h = Forward_steps.pop(f'a{Ultimo_layer}')\n",
    "        Forward_steps['h'] = h[:,1:]\n",
    "        \n",
    "        return Forward_steps\n",
    "        \n",
    "\n",
    "    def CostFunction(self):\n",
    "        '''É calculado a logistic Cost Function para todas as classes(10) e todas as rows(59500)'''\n",
    "        Y = self.Y\n",
    "        X = self.X\n",
    "        Thetas = self.Thetas\n",
    "        m = self.m\n",
    "        Reg = self.Reg\n",
    "        soma_weights = 0\n",
    "        for i in range(len(Thetas)):\n",
    "            weights = Thetas[f'T{i+1}']\n",
    "            weights[0] = 0\n",
    "            soma_weights += np.sum(weights**2)\n",
    "        Forward_dict = self.Forward(X)\n",
    "        h = Forward_dict['h']\n",
    "        soma = np.sum((np.multiply(-Y , np.log(h)) - np.multiply((1-Y),(np.log(1-h)))))\n",
    "        J = soma/m + (Reg/(2*m)) * soma_weights\n",
    "        return J\n",
    "\n",
    "\n",
    "    def Gradients(self,X,Y):\n",
    "        '''Calcular a derivada de todos Thetas w.r.t Cost function, \n",
    "        é organizado utilizando um dicionario contendo os deltas.\n",
    "        {...., \"delta2\": [...], \"delta1\": [...]}'''\n",
    "        X = np.matrix(X)\n",
    "        Y = np.matrix(Y)\n",
    "        m = X.shape[0]\n",
    "        Thetas = self.Thetas\n",
    "        n_layers = len(self.tamanhos)\n",
    "        att = self.ativações\n",
    "        Thetas_grad = []\n",
    "\n",
    "        Forward_list = self.Forward(X)\n",
    "        deltas = {}\n",
    "        deltas[f'delta{n_layers}'] = Forward_list['h'] - Y # delta4\n",
    "        for i in range(n_layers-1,1,-1):# 3 ... 2\n",
    "            if att[i-2] == 'sigmoid':\n",
    "                deltas[f'delta{i}'] = np.multiply((np.dot(deltas[f'delta{i+1}'],Thetas[f'T{i}'][1:].T)) , self.dxsigmoid(Forward_list[f'z{i}']))\n",
    "            elif att[i-2] == 'relu':\n",
    "                deltas[f'delta{i}'] = np.multiply((np.dot(deltas[f'delta{i+1}'],Thetas[f'T{i}'][1:].T)) , self.dxRelu(Forward_list[f'z{i}']))\n",
    "        \n",
    "        for c in range(len(deltas)):#0 ... 1 ... 2\n",
    "            BigDelta = np.array(np.dot(deltas[f'delta{c+2}'].T, Forward_list[f'a{c+1}']))\n",
    "            weights = Thetas[f'T{c+1}']\n",
    "            weights[0] = 0 #Coluna dos bias vira 0's\n",
    "            grad = np.array(BigDelta + (self.Reg * weights.T))/m\n",
    "            Thetas_grad.append(grad)\n",
    "        return Thetas_grad #[T1_grad, T2_grad, T3_grad]\n",
    "\n",
    "\n",
    "    def Precisao(self, X,Y):\n",
    "        '''É calculado a porcentagem em que o algoritmo classificou corretamente a imagem.'''\n",
    "        Forward_list = self.Forward(X)\n",
    "        h = Forward_list['h']\n",
    "        y_hat = np.argmax(h, axis=1)[:,None]\n",
    "        y = np.argmax(Y, axis=1)[:,None]\n",
    "        return np.mean(y_hat == y)\n",
    "\n",
    "\n",
    "    def train(self, X, Y,x_test,y_test):\n",
    "        '''Função que organiza os precessos para o aprendizado adequedo, utilizando os parametros inseridos.\n",
    "        Após <num> epochs, é feito o calculo do Cost, calculo da precisão em relação ao Treinamento e ao \n",
    "        Teste(provando sua capacidade de generalizar).'''\n",
    "        Thetas = self.Thetas\n",
    "        self.X = X\n",
    "        self.Y = Y\n",
    "        self.m = X.shape[0]\n",
    "        j_history = []\n",
    "        sec1 = time.time()\n",
    "        if self.batch_size <= 0:\n",
    "            b_size = self.m\n",
    "            print(f'Usando batch de tamanho {b_size}..')\n",
    "        elif isinstance(self.batch_size, int) and (1<= self.batch_size <= self.m):\n",
    "            b_size = self.batch_size\n",
    "        else:\n",
    "            return 'ERRO EM BATCH_SIZE'\n",
    "        for ep in range(self.epochs):\n",
    "            m = self.m\n",
    "            a = np.array([0,b_size])\n",
    "            num = 1 #Coloque um numero maior se utilizar muitas epochs\n",
    "            \n",
    "            for i in range(m // b_size):\n",
    "                inx = a + b_size*i\n",
    "                grad_list = self.Gradients(X[inx[0]:inx[1]], Y[inx[0]:inx[1]])\n",
    "                for g in range(len(grad_list)):\n",
    "                    self.Thetas[f'T{g+1}'] = self.Thetas[f'T{g+1}'] - self.alpha*np.array(grad_list[g]).T\n",
    "            \n",
    "            if (ep+1) % num == 0: #\n",
    "                J = self.CostFunction()\n",
    "                j_history.append(J)\n",
    "                accu_train = self.Precisao(X,Y)\n",
    "                accu_test = self.Precisao(x_test,y_test)\n",
    "                sec2 = time.time()\n",
    "                tempo_gasto = sec2 - sec1\n",
    "                print(f'Epoch: {ep+1}; Cost: {J:.5f}: Accuracy Train: {accu_train:.5%}; Accuracy Test: {accu_test:.5%}; Tempo Gasto: {tempo_gasto:.2f} s')\n",
    "        return j_history, self.Thetas\n"
   ]
  },
  {
   "cell_type": "code",
   "execution_count": 9,
   "metadata": {},
   "outputs": [],
   "source": [
    "model = MNISTalgorithm([784, 'relu', 200,'sigmoid',80, 'softmax', 10], epochs=10, alpha=0.1, batch_size=100)"
   ]
  },
  {
   "cell_type": "code",
   "execution_count": 10,
   "metadata": {},
   "outputs": [
    {
     "name": "stdout",
     "output_type": "stream",
     "text": [
      "Epoch: 1; Cost: 0.62191: Accuracy Train: 90.09244%; Accuracy Test: 89.96190%; Tempo Gasto: 9.17 s\n",
      "Epoch: 2; Cost: 0.45427: Accuracy Train: 92.42353%; Accuracy Test: 92.28571%; Tempo Gasto: 17.42 s\n",
      "Epoch: 3; Cost: 0.37289: Accuracy Train: 93.71765%; Accuracy Test: 93.42857%; Tempo Gasto: 25.19 s\n",
      "Epoch: 4; Cost: 0.31886: Accuracy Train: 94.64874%; Accuracy Test: 94.26667%; Tempo Gasto: 36.19 s\n",
      "Epoch: 5; Cost: 0.27948: Accuracy Train: 95.35462%; Accuracy Test: 94.88571%; Tempo Gasto: 45.94 s\n",
      "Epoch: 6; Cost: 0.24890: Accuracy Train: 95.88739%; Accuracy Test: 95.31429%; Tempo Gasto: 56.25 s\n",
      "Epoch: 7; Cost: 0.22424: Accuracy Train: 96.34790%; Accuracy Test: 95.55238%; Tempo Gasto: 66.99 s\n",
      "Epoch: 8; Cost: 0.20376: Accuracy Train: 96.66218%; Accuracy Test: 95.84762%; Tempo Gasto: 77.46 s\n",
      "Epoch: 9; Cost: 0.18653: Accuracy Train: 96.99160%; Accuracy Test: 96.02857%; Tempo Gasto: 88.28 s\n",
      "Epoch: 10; Cost: 0.17176: Accuracy Train: 97.24706%; Accuracy Test: 96.26667%; Tempo Gasto: 98.93 s\n"
     ]
    }
   ],
   "source": [
    "j_history, trained_thetas = model.train(x_train,y_train,x_test,y_test)"
   ]
  },
  {
   "cell_type": "code",
   "execution_count": 13,
   "metadata": {},
   "outputs": [
    {
     "data": {
      "image/png": "[encoded data removed]",
      "text/plain": [
       "<Figure size 432x288 with 1 Axes>"
      ]
     },
     "metadata": {},
     "output_type": "display_data"
    }
   ],
   "source": [
    "plt.plot(j_history, 'go-',label='Cost')\n",
    "plt.title('Cost em relação as Epochs')\n",
    "plt.xlabel('Epochs')\n",
    "plt.ylabel('Cost')\n",
    "plt.show()"
   ]
  },
  {
   "cell_type": "code",
   "execution_count": 49,
   "metadata": {},
   "outputs": [],
   "source": [
    "#SALVAR O MODELO APÓS O TREINO\n",
    "a_file = open('MNIST_trained.pkl', 'wb')\n",
    "pickle.dump(trained_thetas, a_file)\n",
    "a_file.close()"
   ]
  }
 ],
 "metadata": {
  "interpreter": {
   "hash": "12989127fc9eea451cc056eaccf32cd26bbc7865e73ddcf9409d9c2184a0fb81"
  },
  "kernelspec": {
   "display_name": "Python 3.7.10 64-bit ('ML': conda)",
   "name": "python3"
  },
  "language_info": {
   "codemirror_mode": {
    "name": "ipython",
    "version": 3
   },
   "file_extension": ".py",
   "mimetype": "text/x-python",
   "name": "python",
   "nbconvert_exporter": "python",
   "pygments_lexer": "ipython3",
   "version": "3.7.10"
  }
 },
 "nbformat": 4,
 "nbformat_minor": 2
}
